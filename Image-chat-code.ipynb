{
 "cells": [
  {
   "cell_type": "code",
   "execution_count": 2,
   "metadata": {},
   "outputs": [],
   "source": [
    "\n",
    "import torch\n",
    "from torchvision import transforms\n",
    "from torchvision.models import vgg16\n",
    "import faiss\n",
    "import os\n",
    "import numpy as np\n",
    "from PIL import Image\n",
    "import pickle\n",
    "\n"
   ]
  },
  {
   "cell_type": "code",
   "execution_count": 3,
   "metadata": {},
   "outputs": [],
   "source": [
    "device = torch.device(\"cuda\" if torch.cuda.is_available() else \"cpu\")"
   ]
  },
  {
   "cell_type": "code",
   "execution_count": 4,
   "metadata": {},
   "outputs": [
    {
     "name": "stderr",
     "output_type": "stream",
     "text": [
      "c:\\AI project\\image-similarity-search\\.venv\\Lib\\site-packages\\torchvision\\models\\_utils.py:208: UserWarning: The parameter 'pretrained' is deprecated since 0.13 and may be removed in the future, please use 'weights' instead.\n",
      "  warnings.warn(\n",
      "c:\\AI project\\image-similarity-search\\.venv\\Lib\\site-packages\\torchvision\\models\\_utils.py:223: UserWarning: Arguments other than a weight enum or `None` for 'weights' are deprecated since 0.13 and may be removed in the future. The current behavior is equivalent to passing `weights=VGG16_Weights.IMAGENET1K_V1`. You can also use `weights=VGG16_Weights.DEFAULT` to get the most up-to-date weights.\n",
      "  warnings.warn(msg)\n"
     ]
    },
    {
     "data": {
      "text/plain": [
       "Sequential(\n",
       "  (0): Conv2d(3, 64, kernel_size=(3, 3), stride=(1, 1), padding=(1, 1))\n",
       "  (1): ReLU(inplace=True)\n",
       "  (2): Conv2d(64, 64, kernel_size=(3, 3), stride=(1, 1), padding=(1, 1))\n",
       "  (3): ReLU(inplace=True)\n",
       "  (4): MaxPool2d(kernel_size=2, stride=2, padding=0, dilation=1, ceil_mode=False)\n",
       "  (5): Conv2d(64, 128, kernel_size=(3, 3), stride=(1, 1), padding=(1, 1))\n",
       "  (6): ReLU(inplace=True)\n",
       "  (7): Conv2d(128, 128, kernel_size=(3, 3), stride=(1, 1), padding=(1, 1))\n",
       "  (8): ReLU(inplace=True)\n",
       "  (9): MaxPool2d(kernel_size=2, stride=2, padding=0, dilation=1, ceil_mode=False)\n",
       "  (10): Conv2d(128, 256, kernel_size=(3, 3), stride=(1, 1), padding=(1, 1))\n",
       "  (11): ReLU(inplace=True)\n",
       "  (12): Conv2d(256, 256, kernel_size=(3, 3), stride=(1, 1), padding=(1, 1))\n",
       "  (13): ReLU(inplace=True)\n",
       "  (14): Conv2d(256, 256, kernel_size=(3, 3), stride=(1, 1), padding=(1, 1))\n",
       "  (15): ReLU(inplace=True)\n",
       "  (16): MaxPool2d(kernel_size=2, stride=2, padding=0, dilation=1, ceil_mode=False)\n",
       "  (17): Conv2d(256, 512, kernel_size=(3, 3), stride=(1, 1), padding=(1, 1))\n",
       "  (18): ReLU(inplace=True)\n",
       "  (19): Conv2d(512, 512, kernel_size=(3, 3), stride=(1, 1), padding=(1, 1))\n",
       "  (20): ReLU(inplace=True)\n",
       "  (21): Conv2d(512, 512, kernel_size=(3, 3), stride=(1, 1), padding=(1, 1))\n",
       "  (22): ReLU(inplace=True)\n",
       "  (23): MaxPool2d(kernel_size=2, stride=2, padding=0, dilation=1, ceil_mode=False)\n",
       "  (24): Conv2d(512, 512, kernel_size=(3, 3), stride=(1, 1), padding=(1, 1))\n",
       "  (25): ReLU(inplace=True)\n",
       "  (26): Conv2d(512, 512, kernel_size=(3, 3), stride=(1, 1), padding=(1, 1))\n",
       "  (27): ReLU(inplace=True)\n",
       "  (28): Conv2d(512, 512, kernel_size=(3, 3), stride=(1, 1), padding=(1, 1))\n",
       "  (29): ReLU(inplace=True)\n",
       "  (30): MaxPool2d(kernel_size=2, stride=2, padding=0, dilation=1, ceil_mode=False)\n",
       ")"
      ]
     },
     "execution_count": 4,
     "metadata": {},
     "output_type": "execute_result"
    }
   ],
   "source": [
    "transform = transforms.Compose([\n",
    "    transforms.Resize(256),  # Resize image to 256x256\n",
    "    transforms.CenterCrop(224),  # Crop central 224x224 region\n",
    "    transforms.ToTensor(),  # Convert image to PyTorch tensor\n",
    "    transforms.Normalize(mean=[0.485, 0.456, 0.406], std=[0.229, 0.224, 0.225]),  # Normalize based on ImageNet statistics\n",
    "])\n",
    "\n",
    "# Load pre-trained VGG16 model (without final classification layer)\n",
    "model = vgg16(pretrained=True).features.to(device)\n",
    "model.eval()  # Set model to evaluation mode\n"
   ]
  },
  {
   "cell_type": "code",
   "execution_count": 5,
   "metadata": {},
   "outputs": [],
   "source": [
    "# Function to encode an image\n",
    "def get_image_embedding(img_path):\n",
    "  img = transform(Image.open(img_path))  # Load and transform image\n",
    "  img = img.unsqueeze(0).to(device)  # Add batch dimension and move to device\n",
    "  with torch.no_grad():  # Disable gradient calculation for efficiency\n",
    "    embedding = model(img)  # Pass image through VGG16\n",
    "  embedding = embedding.flatten(start_dim=0)  # Flatten feature map to vector\n",
    "  return embedding.cpu().detach().numpy()  # Move embedding to CPU and numpy array\n",
    "\n"
   ]
  },
  {
   "cell_type": "code",
   "execution_count": 6,
   "metadata": {},
   "outputs": [],
   "source": [
    "# Function to create Faiss index from image embeddings\n",
    "def create_faiss_index(embeddings):\n",
    "  d = embeddings.shape[1]  # Embedding dimension\n",
    "  #metric_type = faiss.METRIC_INNER_PRODUCT\n",
    "  index = faiss.IndexFlatIP(d)\n",
    "  #index = faiss.IndexIVFFlat(quantizer, d,nlist, metric_type)\n",
    "  \n",
    "  index.add(embeddings)\n",
    "  #index.precompute_codes = True\n",
    "  return index"
   ]
  },
  {
   "cell_type": "code",
   "execution_count": 7,
   "metadata": {},
   "outputs": [],
   "source": [
    "def get_image_paths(folder_path):\n",
    "  image_paths = []\n",
    "  for filename in os.listdir(folder_path):\n",
    "    # Check if the file extension is an image format\n",
    "    if filename.lower().endswith((\".jpg\", \".jpeg\", \".png\")):\n",
    "      # Construct the absolute path for the image\n",
    "      image_path = os.path.join(folder_path, filename)\n",
    "      image_paths.append(image_path)\n",
    "  return image_paths"
   ]
  },
  {
   "cell_type": "code",
   "execution_count": 8,
   "metadata": {},
   "outputs": [],
   "source": [
    "def get_all_filenames(folder_path):\n",
    "  filenames = []\n",
    "  for root, _, files in os.walk(folder_path):\n",
    "    for filename in files:\n",
    " \n",
    "      # Construct the absolute path for the file\n",
    "      filepath = os.path.join(root, filename).replace(\"\\\\\",\"/\")\n",
    "      filenames.append(filepath)\n",
    "  return filenames"
   ]
  },
  {
   "cell_type": "code",
   "execution_count": 9,
   "metadata": {},
   "outputs": [],
   "source": [
    "#image_paths = get_image_paths(\"data/images/\")\n",
    "image_paths = get_all_filenames(\"data/animal/\")\n",
    "#print(image_paths[:-10])\n",
    "#print(img_dict)"
   ]
  },
  {
   "cell_type": "code",
   "execution_count": 10,
   "metadata": {},
   "outputs": [
    {
     "name": "stdout",
     "output_type": "stream",
     "text": [
      "[[10.494837    7.2048087   3.141008   ...  0.          0.\n",
      "   1.0820426 ]\n",
      " [ 0.10750625  4.06217     3.910373   ...  0.          0.\n",
      "   0.        ]\n",
      " [ 0.          2.164272    3.0900533  ...  0.          0.\n",
      "   0.        ]\n",
      " ...\n",
      " [ 2.459496    0.3876895   0.         ...  4.72737     4.177019\n",
      "   4.9082494 ]\n",
      " [ 0.95982873  0.          0.         ...  0.9100795   0.9312251\n",
      "   3.060404  ]\n",
      " [ 2.6453047   0.          0.         ...  0.          0.\n",
      "   0.        ]]\n"
     ]
    }
   ],
   "source": [
    "embeddings = np.array([get_image_embedding(path) for path in image_paths])\n",
    "\n",
    "print(embeddings[:10])"
   ]
  },
  {
   "cell_type": "code",
   "execution_count": 11,
   "metadata": {},
   "outputs": [],
   "source": [
    "# Create Faiss index\n",
    "faiss_index = create_faiss_index(embeddings)\n",
    "\n",
    "# Save embeddings and index (optional, for deployment)\n",
    "np.save(\"embeddings.npy\", embeddings)\n",
    "faiss.write_index(faiss_index, \"faiss_index.bin\")\n",
    "\n",
    "with open(\"img_dict.pkl\", \"wb\") as f:\n",
    "    pickle.dump(image_paths, f)"
   ]
  }
 ],
 "metadata": {
  "kernelspec": {
   "display_name": "env",
   "language": "python",
   "name": "python3"
  },
  "language_info": {
   "codemirror_mode": {
    "name": "ipython",
    "version": 3
   },
   "file_extension": ".py",
   "mimetype": "text/x-python",
   "name": "python",
   "nbconvert_exporter": "python",
   "pygments_lexer": "ipython3",
   "version": "3.11.3"
  }
 },
 "nbformat": 4,
 "nbformat_minor": 2
}
